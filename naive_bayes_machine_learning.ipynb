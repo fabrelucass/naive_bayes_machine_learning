{
  "cells": [
    {
      "cell_type": "code",
      "source": [
        "import numpy as np\n",
        "import pandas as pd\n",
        "import matplotlib.pyplot as plt\n",
        "import seaborn as sns\n",
        "from sklearn.naive_bayes import GaussianNB, MultinomialNB, BernoulliNB\n",
        "from sklearn.model_selection import train_test_split, cross_val_score, GridSearchCV, KFold\n",
        "from sklearn.metrics import accuracy_score, classification_report, confusion_matrix\n",
        "from sklearn.preprocessing import MinMaxScaler, StandardScaler\n",
        "from sklearn.impute import SimpleImputer\n",
        "from sklearn.decomposition import PCA\n"
      ],
      "metadata": {
        "collapsed": true,
        "id": "xyd-kQKLtQPi"
      },
      "execution_count": 189,
      "outputs": []
    },
    {
      "cell_type": "code",
      "source": [
        "# Função para carregar dados simulados\n",
        "def carregar_dados():\n",
        "    \"\"\"\n",
        "    Função para gerar um conjunto de dados fictício sobre estudo de inglês.\n",
        "    \"\"\"\n",
        "    np.random.seed(50000)"
      ],
      "metadata": {
        "id": "7jQ1PB8NteTQ"
      },
      "execution_count": 190,
      "outputs": []
    },
    {
      "cell_type": "code",
      "source": [
        "\n",
        "# Gerando dados simulados\n",
        "tempo_estudo = np.random.normal(loc=3, scale=1, size=1000)  # Tempo de estudo (em horas/dia)\n",
        "pontuacao = np.random.normal(loc=60, scale=15, size=1000)  # Pontuação no exame\n",
        "frequencia_palavras = np.random.randint(1, 20, size=1000)  # Frequência de palavras revisadas\n",
        "niveis = np.random.choice([0, 1, 2, 3, 4], size=1000)  # Níveis: A1=0, A2=1, B1=2, B2=3, C1=4\n",
        "\n",
        "dados = pd.DataFrame({\n",
        "    'tempo_estudo': tempo_estudo,\n",
        "    'pontuacao': pontuacao,\n",
        "    'frequencia_palavras': frequencia_palavras,\n",
        "    'nivel': niveis\n",
        "})\n",
        "\n",
        "# Retorna os dados gerados\n",
        "print(dados)\n",
        "\n"
      ],
      "metadata": {
        "collapsed": true,
        "colab": {
          "base_uri": "https://localhost:8080/"
        },
        "id": "YprVn2IMte-H",
        "outputId": "d4124b7e-41a3-4367-a478-3bd272215dfa"
      },
      "execution_count": 191,
      "outputs": [
        {
          "output_type": "stream",
          "name": "stdout",
          "text": [
            "     tempo_estudo  pontuacao  frequencia_palavras  nivel\n",
            "0        3.102716  62.305747                    4      0\n",
            "1        2.808815  61.246665                   17      0\n",
            "2        1.866892  38.962870                    3      2\n",
            "3        1.681223  82.926334                    4      3\n",
            "4        2.735088  55.415946                    2      4\n",
            "..            ...        ...                  ...    ...\n",
            "995      1.481276  60.748815                   15      1\n",
            "996      2.875553  75.300058                    4      2\n",
            "997      3.613703  89.362341                   11      4\n",
            "998      3.484529  64.426858                    6      2\n",
            "999      4.005175  66.877209                    4      4\n",
            "\n",
            "[1000 rows x 4 columns]\n"
          ]
        }
      ]
    },
    {
      "cell_type": "code",
      "source": [
        "\n",
        "# Função de Análise Exploratória de Dados\n",
        "def analise_exploratoria(dados):\n",
        "    \"\"\"\n",
        "    Função para realizar uma análise exploratória detalhada dos dados.\n",
        "    \"\"\"\n",
        "    print(\"Primeiras linhas dos dados:\")\n",
        "    print(dados.head())\n",
        "\n"
      ],
      "metadata": {
        "id": "87fGea8ktjze"
      },
      "execution_count": 192,
      "outputs": []
    },
    {
      "cell_type": "code",
      "source": [
        "# Estatísticas descritivas\n",
        "print(\"\\nEstatísticas Descritivas:\")\n",
        "print(dados.describe())\n"
      ],
      "metadata": {
        "colab": {
          "base_uri": "https://localhost:8080/"
        },
        "id": "w-KNZ1tKuWGb",
        "outputId": "dfa1ffd8-0f93-49b7-8a76-64d3accb71df"
      },
      "execution_count": 193,
      "outputs": [
        {
          "output_type": "stream",
          "name": "stdout",
          "text": [
            "\n",
            "Estatísticas Descritivas:\n",
            "       tempo_estudo    pontuacao  frequencia_palavras        nivel\n",
            "count   1000.000000  1000.000000          1000.000000  1000.000000\n",
            "mean       2.973663    59.582829             9.952000     1.944000\n",
            "std        1.038910    14.939475             5.437395     1.395999\n",
            "min       -0.174749    13.492225             1.000000     0.000000\n",
            "25%        2.239243    49.361196             5.000000     1.000000\n",
            "50%        2.976322    59.262499            10.000000     2.000000\n",
            "75%        3.659708    69.960200            15.000000     3.000000\n",
            "max        6.155538   106.517801            19.000000     4.000000\n"
          ]
        }
      ]
    },
    {
      "cell_type": "code",
      "source": [
        "#Verificando a distribuição dos níveis\n",
        "print(\"\\nDistribuição dos Níveis de Proficiência:\")\n",
        "print(dados['nivel'].value_counts())"
      ],
      "metadata": {
        "colab": {
          "base_uri": "https://localhost:8080/"
        },
        "id": "7LCOf8hkuWOj",
        "outputId": "53e4e522-6332-458e-afd9-3fea3453ad6d"
      },
      "execution_count": 194,
      "outputs": [
        {
          "output_type": "stream",
          "name": "stdout",
          "text": [
            "\n",
            "Distribuição dos Níveis de Proficiência:\n",
            "nivel\n",
            "1    226\n",
            "3    200\n",
            "0    198\n",
            "2    193\n",
            "4    183\n",
            "Name: count, dtype: int64\n"
          ]
        }
      ]
    },
    {
      "cell_type": "code",
      "source": [
        "# Visualização da distribuição dos dados\n",
        "plt.figure(figsize=(10, 6))\n",
        "sns.histplot(dados['tempo_estudo'], kde=True, color='blue', bins=10, label='Tempo de Estudo')\n",
        "plt.title('Distribuição do Tempo de Estudo')\n",
        "plt.xlabel('Horas/dia')\n",
        "plt.ylabel('Frequência')\n",
        "plt.legend()\n",
        "plt.show()\n",
        "\n",
        "\n",
        "\n",
        "plt.figure(figsize=(10, 6))\n",
        "sns.histplot(dados['pontuacao'], kde=True, color='green', bins=10, label='Pontuação no Exame')\n",
        "plt.title('Distribuição da Pontuação no Exame')\n",
        "plt.xlabel('Pontuação')\n",
        "plt.ylabel('Frequência')\n",
        "plt.legend()\n",
        "plt.show()\n"
      ],
      "metadata": {
        "colab": {
          "base_uri": "https://localhost:8080/",
          "height": 1000
        },
        "id": "vXjYXhCluWU4",
        "outputId": "c4fa91fc-6944-4a28-d96c-303ff71251b0"
      },
      "execution_count": 195,
      "outputs": [
        {
          "output_type": "display_data",
          "data": {
            "text/plain": [
              "<Figure size 1000x600 with 1 Axes>"
            ],
            "image/png": "[encoded data removed]"
          },
          "metadata": {}
        },
        {
          "output_type": "display_data",
          "data": {
            "text/plain": [
              "<Figure size 1000x600 with 1 Axes>"
            ],
            "image/png": "[encoded data removed]"
          },
          "metadata": {}
        }
      ]
    },
    {
      "cell_type": "code",
      "source": [
        "# Correlação entre variáveis\n",
        "print(\"\\nCorrelação entre variáveis:\")\n",
        "corr = dados.corr()\n",
        "sns.heatmap(corr, annot=True, cmap='coolwarm', fmt='.2f')\n",
        "plt.title('Matriz de Correlação')\n",
        "plt.show()"
      ],
      "metadata": {
        "colab": {
          "base_uri": "https://localhost:8080/",
          "height": 614
        },
        "id": "H_ORKt91uWbk",
        "outputId": "35196431-d9d8-444b-dd12-3684b14e7341"
      },
      "execution_count": 196,
      "outputs": [
        {
          "output_type": "stream",
          "name": "stdout",
          "text": [
            "\n",
            "Correlação entre variáveis:\n"
          ]
        },
        {
          "output_type": "display_data",
          "data": {
            "text/plain": [
              "<Figure size 640x480 with 2 Axes>"
            ],
            "image/png": "[encoded data removed]"
          },
          "metadata": {}
        }
      ]
    },
    {
      "cell_type": "code",
      "source": [
        "# Função de pré-processamento de dados\n",
        "def pre_processar_dados(dados):\n",
        "    \"\"\"\n",
        "    Função para tratar valores ausentes, normalizar os dados e separar as variáveis explicativas e alvo.\n",
        "    \"\"\""
      ],
      "metadata": {
        "id": "xGb5tFV-twSd"
      },
      "execution_count": 197,
      "outputs": []
    },
    {
      "cell_type": "code",
      "source": [
        "    # Tratamento de valores ausentes\n",
        "imputer = SimpleImputer(strategy='mean')  # Preencher valores ausentes com a média\n",
        "dados_imputados = pd.DataFrame(imputer.fit_transform(dados.drop('nivel', axis=1)), columns=dados.columns[:-1])"
      ],
      "metadata": {
        "id": "kROKlwIUxC7r"
      },
      "execution_count": 198,
      "outputs": []
    },
    {
      "cell_type": "code",
      "source": [
        "   # Detecção e remoção de outliers (valores extremamente distantes)\n",
        "Q1 = dados_imputados.quantile(0.25)\n",
        "Q3 = dados_imputados.quantile(0.75)\n",
        "IQR = Q3 - Q1\n",
        "dados_imputados = dados_imputados[~((dados_imputados < (Q1 - 1.5 * IQR)) | (dados_imputados > (Q3 + 1.5 * IQR))).any(axis=1)]"
      ],
      "metadata": {
        "id": "HiSM08jcxDEY"
      },
      "execution_count": 199,
      "outputs": []
    },
    {
      "cell_type": "code",
      "source": [
        "  # Normalização dos dados\n",
        "scaler = MinMaxScaler()  # Normalização Min-Max\n",
        "dados_normalizados = pd.DataFrame(scaler.fit_transform(dados_imputados), columns=dados_imputados.columns)"
      ],
      "metadata": {
        "id": "Q2luRWJyxDJg"
      },
      "execution_count": 200,
      "outputs": []
    },
    {
      "cell_type": "code",
      "source": [
        "# Separando as variáveis explicativas e o rótulo (Nível)\n",
        "X = dados_normalizados\n",
        "y = dados['nivel']\n",
        "\n",
        "\n",
        "X, y\n"
      ],
      "metadata": {
        "colab": {
          "base_uri": "https://localhost:8080/"
        },
        "id": "Mv_Qrb-exDOK",
        "outputId": "65ff07de-4688-45db-ab6c-6a2460a75987"
      },
      "execution_count": 201,
      "outputs": [
        {
          "output_type": "execute_result",
          "data": {
            "text/plain": [
              "(     tempo_estudo  pontuacao  frequencia_palavras\n",
              " 0        0.527445   0.529897             0.166667\n",
              " 1        0.475606   0.516631             0.888889\n",
              " 2        0.309467   0.237507             0.111111\n",
              " 3        0.276718   0.788187             0.166667\n",
              " 4        0.462602   0.443596             0.055556\n",
              " ..            ...        ...                  ...\n",
              " 981      0.241451   0.510395             0.777778\n",
              " 982      0.487377   0.692661             0.166667\n",
              " 983      0.617574   0.868803             0.555556\n",
              " 984      0.594790   0.556465             0.277778\n",
              " 985      0.686622   0.587158             0.166667\n",
              " \n",
              " [986 rows x 3 columns],\n",
              " 0      0\n",
              " 1      0\n",
              " 2      2\n",
              " 3      3\n",
              " 4      4\n",
              "       ..\n",
              " 995    1\n",
              " 996    2\n",
              " 997    4\n",
              " 998    2\n",
              " 999    4\n",
              " Name: nivel, Length: 1000, dtype: int64)"
            ]
          },
          "metadata": {},
          "execution_count": 201
        }
      ]
    },
    {
      "cell_type": "code",
      "source": [
        "    # Modelos de Naive Bayes\n",
        "    modelos = {\n",
        "        'Gaussiano': GaussianNB(),\n",
        "        'Multinomial': MultinomialNB(),\n",
        "        'Bernoulli': BernoulliNB()\n",
        "    }"
      ],
      "metadata": {
        "id": "vNnOCbPVxkLP"
      },
      "execution_count": 202,
      "outputs": []
    },
    {
      "cell_type": "code",
      "source": [
        "print(X_train.min())  # Verifique o valor mínimo\n"
      ],
      "metadata": {
        "colab": {
          "base_uri": "https://localhost:8080/"
        },
        "id": "1p4FdSjSAk4X",
        "outputId": "ecd45a63-bdc1-4a7b-b786-79f384cbb789"
      },
      "execution_count": 203,
      "outputs": [
        {
          "output_type": "stream",
          "name": "stdout",
          "text": [
            "-2.7842558065282312\n"
          ]
        }
      ]
    },
    {
      "cell_type": "code",
      "source": [
        "# Garantir que os dados não tenham valores negativos\n",
        "X_train_pos = X_train - X_train.min()  # Subtrai o valor mínimo para garantir valores não negativos\n"
      ],
      "metadata": {
        "id": "VwR3rCTmAm5L"
      },
      "execution_count": 204,
      "outputs": []
    },
    {
      "cell_type": "code",
      "source": [
        "from sklearn.naive_bayes import GaussianNB\n",
        "\n",
        "modelo = GaussianNB()\n",
        "modelo.fit(X_train, y_train)\n"
      ],
      "metadata": {
        "colab": {
          "base_uri": "https://localhost:8080/",
          "height": 80
        },
        "id": "tt0joteGArn8",
        "outputId": "db0e3078-0b4f-4279-9d4c-c9e189aea0a7"
      },
      "execution_count": 205,
      "outputs": [
        {
          "output_type": "execute_result",
          "data": {
            "text/plain": [
              "GaussianNB()"
            ],
            "text/html": [
              "<style>#sk-container-id-2 {\n",
              "  /* Definition of color scheme common for light and dark mode */\n",
              "  --sklearn-color-text: black;\n",
              "  --sklearn-color-line: gray;\n",
              "  /* Definition of color scheme for unfitted estimators */\n",
              "  --sklearn-color-unfitted-level-0: #fff5e6;\n",
              "  --sklearn-color-unfitted-level-1: #f6e4d2;\n",
              "  --sklearn-color-unfitted-level-2: #ffe0b3;\n",
              "  --sklearn-color-unfitted-level-3: chocolate;\n",
              "  /* Definition of color scheme for fitted estimators */\n",
              "  --sklearn-color-fitted-level-0: #f0f8ff;\n",
              "  --sklearn-color-fitted-level-1: #d4ebff;\n",
              "  --sklearn-color-fitted-level-2: #b3dbfd;\n",
              "  --sklearn-color-fitted-level-3: cornflowerblue;\n",
              "\n",
              "  /* Specific color for light theme */\n",
              "  --sklearn-color-text-on-default-background: var(--sg-text-color, var(--theme-code-foreground, var(--jp-content-font-color1, black)));\n",
              "  --sklearn-color-background: var(--sg-background-color, var(--theme-background, var(--jp-layout-color0, white)));\n",
              "  --sklearn-color-border-box: var(--sg-text-color, var(--theme-code-foreground, var(--jp-content-font-color1, black)));\n",
              "  --sklearn-color-icon: #696969;\n",
              "\n",
              "  @media (prefers-color-scheme: dark) {\n",
              "    /* Redefinition of color scheme for dark theme */\n",
              "    --sklearn-color-text-on-default-background: var(--sg-text-color, var(--theme-code-foreground, var(--jp-content-font-color1, white)));\n",
              "    --sklearn-color-background: var(--sg-background-color, var(--theme-background, var(--jp-layout-color0, #111)));\n",
              "    --sklearn-color-border-box: var(--sg-text-color, var(--theme-code-foreground, var(--jp-content-font-color1, white)));\n",
              "    --sklearn-color-icon: #878787;\n",
              "  }\n",
              "}\n",
              "\n",
              "#sk-container-id-2 {\n",
              "  color: var(--sklearn-color-text);\n",
              "}\n",
              "\n",
              "#sk-container-id-2 pre {\n",
              "  padding: 0;\n",
              "}\n",
              "\n",
              "#sk-container-id-2 input.sk-hidden--visually {\n",
              "  border: 0;\n",
              "  clip: rect(1px 1px 1px 1px);\n",
              "  clip: rect(1px, 1px, 1px, 1px);\n",
              "  height: 1px;\n",
              "  margin: -1px;\n",
              "  overflow: hidden;\n",
              "  padding: 0;\n",
              "  position: absolute;\n",
              "  width: 1px;\n",
              "}\n",
              "\n",
              "#sk-container-id-2 div.sk-dashed-wrapped {\n",
              "  border: 1px dashed var(--sklearn-color-line);\n",
              "  margin: 0 0.4em 0.5em 0.4em;\n",
              "  box-sizing: border-box;\n",
              "  padding-bottom: 0.4em;\n",
              "  background-color: var(--sklearn-color-background);\n",
              "}\n",
              "\n",
              "#sk-container-id-2 div.sk-container {\n",
              "  /* jupyter's `normalize.less` sets `[hidden] { display: none; }`\n",
              "     but bootstrap.min.css set `[hidden] { display: none !important; }`\n",
              "     so we also need the `!important` here to be able to override the\n",
              "     default hidden behavior on the sphinx rendered scikit-learn.org.\n",
              "     See: https://github.com/scikit-learn/scikit-learn/issues/21755 */\n",
              "  display: inline-block !important;\n",
              "  position: relative;\n",
              "}\n",
              "\n",
              "#sk-container-id-2 div.sk-text-repr-fallback {\n",
              "  display: none;\n",
              "}\n",
              "\n",
              "div.sk-parallel-item,\n",
              "div.sk-serial,\n",
              "div.sk-item {\n",
              "  /* draw centered vertical line to link estimators */\n",
              "  background-image: linear-gradient(var(--sklearn-color-text-on-default-background), var(--sklearn-color-text-on-default-background));\n",
              "  background-size: 2px 100%;\n",
              "  background-repeat: no-repeat;\n",
              "  background-position: center center;\n",
              "}\n",
              "\n",
              "/* Parallel-specific style estimator block */\n",
              "\n",
              "#sk-container-id-2 div.sk-parallel-item::after {\n",
              "  content: \"\";\n",
              "  width: 100%;\n",
              "  border-bottom: 2px solid var(--sklearn-color-text-on-default-background);\n",
              "  flex-grow: 1;\n",
              "}\n",
              "\n",
              "#sk-container-id-2 div.sk-parallel {\n",
              "  display: flex;\n",
              "  align-items: stretch;\n",
              "  justify-content: center;\n",
              "  background-color: var(--sklearn-color-background);\n",
              "  position: relative;\n",
              "}\n",
              "\n",
              "#sk-container-id-2 div.sk-parallel-item {\n",
              "  display: flex;\n",
              "  flex-direction: column;\n",
              "}\n",
              "\n",
              "#sk-container-id-2 div.sk-parallel-item:first-child::after {\n",
              "  align-self: flex-end;\n",
              "  width: 50%;\n",
              "}\n",
              "\n",
              "#sk-container-id-2 div.sk-parallel-item:last-child::after {\n",
              "  align-self: flex-start;\n",
              "  width: 50%;\n",
              "}\n",
              "\n",
              "#sk-container-id-2 div.sk-parallel-item:only-child::after {\n",
              "  width: 0;\n",
              "}\n",
              "\n",
              "/* Serial-specific style estimator block */\n",
              "\n",
              "#sk-container-id-2 div.sk-serial {\n",
              "  display: flex;\n",
              "  flex-direction: column;\n",
              "  align-items: center;\n",
              "  background-color: var(--sklearn-color-background);\n",
              "  padding-right: 1em;\n",
              "  padding-left: 1em;\n",
              "}\n",
              "\n",
              "\n",
              "/* Toggleable style: style used for estimator/Pipeline/ColumnTransformer box that is\n",
              "clickable and can be expanded/collapsed.\n",
              "- Pipeline and ColumnTransformer use this feature and define the default style\n",
              "- Estimators will overwrite some part of the style using the `sk-estimator` class\n",
              "*/\n",
              "\n",
              "/* Pipeline and ColumnTransformer style (default) */\n",
              "\n",
              "#sk-container-id-2 div.sk-toggleable {\n",
              "  /* Default theme specific background. It is overwritten whether we have a\n",
              "  specific estimator or a Pipeline/ColumnTransformer */\n",
              "  background-color: var(--sklearn-color-background);\n",
              "}\n",
              "\n",
              "/* Toggleable label */\n",
              "#sk-container-id-2 label.sk-toggleable__label {\n",
              "  cursor: pointer;\n",
              "  display: block;\n",
              "  width: 100%;\n",
              "  margin-bottom: 0;\n",
              "  padding: 0.5em;\n",
              "  box-sizing: border-box;\n",
              "  text-align: center;\n",
              "}\n",
              "\n",
              "#sk-container-id-2 label.sk-toggleable__label-arrow:before {\n",
              "  /* Arrow on the left of the label */\n",
              "  content: \"▸\";\n",
              "  float: left;\n",
              "  margin-right: 0.25em;\n",
              "  color: var(--sklearn-color-icon);\n",
              "}\n",
              "\n",
              "#sk-container-id-2 label.sk-toggleable__label-arrow:hover:before {\n",
              "  color: var(--sklearn-color-text);\n",
              "}\n",
              "\n",
              "/* Toggleable content - dropdown */\n",
              "\n",
              "#sk-container-id-2 div.sk-toggleable__content {\n",
              "  max-height: 0;\n",
              "  max-width: 0;\n",
              "  overflow: hidden;\n",
              "  text-align: left;\n",
              "  /* unfitted */\n",
              "  background-color: var(--sklearn-color-unfitted-level-0);\n",
              "}\n",
              "\n",
              "#sk-container-id-2 div.sk-toggleable__content.fitted {\n",
              "  /* fitted */\n",
              "  background-color: var(--sklearn-color-fitted-level-0);\n",
              "}\n",
              "\n",
              "#sk-container-id-2 div.sk-toggleable__content pre {\n",
              "  margin: 0.2em;\n",
              "  border-radius: 0.25em;\n",
              "  color: var(--sklearn-color-text);\n",
              "  /* unfitted */\n",
              "  background-color: var(--sklearn-color-unfitted-level-0);\n",
              "}\n",
              "\n",
              "#sk-container-id-2 div.sk-toggleable__content.fitted pre {\n",
              "  /* unfitted */\n",
              "  background-color: var(--sklearn-color-fitted-level-0);\n",
              "}\n",
              "\n",
              "#sk-container-id-2 input.sk-toggleable__control:checked~div.sk-toggleable__content {\n",
              "  /* Expand drop-down */\n",
              "  max-height: 200px;\n",
              "  max-width: 100%;\n",
              "  overflow: auto;\n",
              "}\n",
              "\n",
              "#sk-container-id-2 input.sk-toggleable__control:checked~label.sk-toggleable__label-arrow:before {\n",
              "  content: \"▾\";\n",
              "}\n",
              "\n",
              "/* Pipeline/ColumnTransformer-specific style */\n",
              "\n",
              "#sk-container-id-2 div.sk-label input.sk-toggleable__control:checked~label.sk-toggleable__label {\n",
              "  color: var(--sklearn-color-text);\n",
              "  background-color: var(--sklearn-color-unfitted-level-2);\n",
              "}\n",
              "\n",
              "#sk-container-id-2 div.sk-label.fitted input.sk-toggleable__control:checked~label.sk-toggleable__label {\n",
              "  background-color: var(--sklearn-color-fitted-level-2);\n",
              "}\n",
              "\n",
              "/* Estimator-specific style */\n",
              "\n",
              "/* Colorize estimator box */\n",
              "#sk-container-id-2 div.sk-estimator input.sk-toggleable__control:checked~label.sk-toggleable__label {\n",
              "  /* unfitted */\n",
              "  background-color: var(--sklearn-color-unfitted-level-2);\n",
              "}\n",
              "\n",
              "#sk-container-id-2 div.sk-estimator.fitted input.sk-toggleable__control:checked~label.sk-toggleable__label {\n",
              "  /* fitted */\n",
              "  background-color: var(--sklearn-color-fitted-level-2);\n",
              "}\n",
              "\n",
              "#sk-container-id-2 div.sk-label label.sk-toggleable__label,\n",
              "#sk-container-id-2 div.sk-label label {\n",
              "  /* The background is the default theme color */\n",
              "  color: var(--sklearn-color-text-on-default-background);\n",
              "}\n",
              "\n",
              "/* On hover, darken the color of the background */\n",
              "#sk-container-id-2 div.sk-label:hover label.sk-toggleable__label {\n",
              "  color: var(--sklearn-color-text);\n",
              "  background-color: var(--sklearn-color-unfitted-level-2);\n",
              "}\n",
              "\n",
              "/* Label box, darken color on hover, fitted */\n",
              "#sk-container-id-2 div.sk-label.fitted:hover label.sk-toggleable__label.fitted {\n",
              "  color: var(--sklearn-color-text);\n",
              "  background-color: var(--sklearn-color-fitted-level-2);\n",
              "}\n",
              "\n",
              "/* Estimator label */\n",
              "\n",
              "#sk-container-id-2 div.sk-label label {\n",
              "  font-family: monospace;\n",
              "  font-weight: bold;\n",
              "  display: inline-block;\n",
              "  line-height: 1.2em;\n",
              "}\n",
              "\n",
              "#sk-container-id-2 div.sk-label-container {\n",
              "  text-align: center;\n",
              "}\n",
              "\n",
              "/* Estimator-specific */\n",
              "#sk-container-id-2 div.sk-estimator {\n",
              "  font-family: monospace;\n",
              "  border: 1px dotted var(--sklearn-color-border-box);\n",
              "  border-radius: 0.25em;\n",
              "  box-sizing: border-box;\n",
              "  margin-bottom: 0.5em;\n",
              "  /* unfitted */\n",
              "  background-color: var(--sklearn-color-unfitted-level-0);\n",
              "}\n",
              "\n",
              "#sk-container-id-2 div.sk-estimator.fitted {\n",
              "  /* fitted */\n",
              "  background-color: var(--sklearn-color-fitted-level-0);\n",
              "}\n",
              "\n",
              "/* on hover */\n",
              "#sk-container-id-2 div.sk-estimator:hover {\n",
              "  /* unfitted */\n",
              "  background-color: var(--sklearn-color-unfitted-level-2);\n",
              "}\n",
              "\n",
              "#sk-container-id-2 div.sk-estimator.fitted:hover {\n",
              "  /* fitted */\n",
              "  background-color: var(--sklearn-color-fitted-level-2);\n",
              "}\n",
              "\n",
              "/* Specification for estimator info (e.g. \"i\" and \"?\") */\n",
              "\n",
              "/* Common style for \"i\" and \"?\" */\n",
              "\n",
              ".sk-estimator-doc-link,\n",
              "a:link.sk-estimator-doc-link,\n",
              "a:visited.sk-estimator-doc-link {\n",
              "  float: right;\n",
              "  font-size: smaller;\n",
              "  line-height: 1em;\n",
              "  font-family: monospace;\n",
              "  background-color: var(--sklearn-color-background);\n",
              "  border-radius: 1em;\n",
              "  height: 1em;\n",
              "  width: 1em;\n",
              "  text-decoration: none !important;\n",
              "  margin-left: 1ex;\n",
              "  /* unfitted */\n",
              "  border: var(--sklearn-color-unfitted-level-1) 1pt solid;\n",
              "  color: var(--sklearn-color-unfitted-level-1);\n",
              "}\n",
              "\n",
              ".sk-estimator-doc-link.fitted,\n",
              "a:link.sk-estimator-doc-link.fitted,\n",
              "a:visited.sk-estimator-doc-link.fitted {\n",
              "  /* fitted */\n",
              "  border: var(--sklearn-color-fitted-level-1) 1pt solid;\n",
              "  color: var(--sklearn-color-fitted-level-1);\n",
              "}\n",
              "\n",
              "/* On hover */\n",
              "div.sk-estimator:hover .sk-estimator-doc-link:hover,\n",
              ".sk-estimator-doc-link:hover,\n",
              "div.sk-label-container:hover .sk-estimator-doc-link:hover,\n",
              ".sk-estimator-doc-link:hover {\n",
              "  /* unfitted */\n",
              "  background-color: var(--sklearn-color-unfitted-level-3);\n",
              "  color: var(--sklearn-color-background);\n",
              "  text-decoration: none;\n",
              "}\n",
              "\n",
              "div.sk-estimator.fitted:hover .sk-estimator-doc-link.fitted:hover,\n",
              ".sk-estimator-doc-link.fitted:hover,\n",
              "div.sk-label-container:hover .sk-estimator-doc-link.fitted:hover,\n",
              ".sk-estimator-doc-link.fitted:hover {\n",
              "  /* fitted */\n",
              "  background-color: var(--sklearn-color-fitted-level-3);\n",
              "  color: var(--sklearn-color-background);\n",
              "  text-decoration: none;\n",
              "}\n",
              "\n",
              "/* Span, style for the box shown on hovering the info icon */\n",
              ".sk-estimator-doc-link span {\n",
              "  display: none;\n",
              "  z-index: 9999;\n",
              "  position: relative;\n",
              "  font-weight: normal;\n",
              "  right: .2ex;\n",
              "  padding: .5ex;\n",
              "  margin: .5ex;\n",
              "  width: min-content;\n",
              "  min-width: 20ex;\n",
              "  max-width: 50ex;\n",
              "  color: var(--sklearn-color-text);\n",
              "  box-shadow: 2pt 2pt 4pt #999;\n",
              "  /* unfitted */\n",
              "  background: var(--sklearn-color-unfitted-level-0);\n",
              "  border: .5pt solid var(--sklearn-color-unfitted-level-3);\n",
              "}\n",
              "\n",
              ".sk-estimator-doc-link.fitted span {\n",
              "  /* fitted */\n",
              "  background: var(--sklearn-color-fitted-level-0);\n",
              "  border: var(--sklearn-color-fitted-level-3);\n",
              "}\n",
              "\n",
              ".sk-estimator-doc-link:hover span {\n",
              "  display: block;\n",
              "}\n",
              "\n",
              "/* \"?\"-specific style due to the `<a>` HTML tag */\n",
              "\n",
              "#sk-container-id-2 a.estimator_doc_link {\n",
              "  float: right;\n",
              "  font-size: 1rem;\n",
              "  line-height: 1em;\n",
              "  font-family: monospace;\n",
              "  background-color: var(--sklearn-color-background);\n",
              "  border-radius: 1rem;\n",
              "  height: 1rem;\n",
              "  width: 1rem;\n",
              "  text-decoration: none;\n",
              "  /* unfitted */\n",
              "  color: var(--sklearn-color-unfitted-level-1);\n",
              "  border: var(--sklearn-color-unfitted-level-1) 1pt solid;\n",
              "}\n",
              "\n",
              "#sk-container-id-2 a.estimator_doc_link.fitted {\n",
              "  /* fitted */\n",
              "  border: var(--sklearn-color-fitted-level-1) 1pt solid;\n",
              "  color: var(--sklearn-color-fitted-level-1);\n",
              "}\n",
              "\n",
              "/* On hover */\n",
              "#sk-container-id-2 a.estimator_doc_link:hover {\n",
              "  /* unfitted */\n",
              "  background-color: var(--sklearn-color-unfitted-level-3);\n",
              "  color: var(--sklearn-color-background);\n",
              "  text-decoration: none;\n",
              "}\n",
              "\n",
              "#sk-container-id-2 a.estimator_doc_link.fitted:hover {\n",
              "  /* fitted */\n",
              "  background-color: var(--sklearn-color-fitted-level-3);\n",
              "}\n",
              "</style><div id=\"sk-container-id-2\" class=\"sk-top-container\"><div class=\"sk-text-repr-fallback\"><pre>GaussianNB()</pre><b>In a Jupyter environment, please rerun this cell to show the HTML representation or trust the notebook. <br />On GitHub, the HTML representation is unable to render, please try loading this page with nbviewer.org.</b></div><div class=\"sk-container\" hidden><div class=\"sk-item\"><div class=\"sk-estimator fitted sk-toggleable\"><input class=\"sk-toggleable__control sk-hidden--visually\" id=\"sk-estimator-id-2\" type=\"checkbox\" checked><label for=\"sk-estimator-id-2\" class=\"sk-toggleable__label fitted sk-toggleable__label-arrow fitted\">&nbsp;&nbsp;GaussianNB<a class=\"sk-estimator-doc-link fitted\" rel=\"noreferrer\" target=\"_blank\" href=\"https://scikit-learn.org/1.5/modules/generated/sklearn.naive_bayes.GaussianNB.html\">?<span>Documentation for GaussianNB</span></a><span class=\"sk-estimator-doc-link fitted\">i<span>Fitted</span></span></label><div class=\"sk-toggleable__content fitted\"><pre>GaussianNB()</pre></div> </div></div></div></div>"
            ]
          },
          "metadata": {},
          "execution_count": 205
        }
      ]
    },
    {
      "cell_type": "code",
      "source": [
        "    # Calcula a acurácia\n",
        "    acc = accuracy_score(y_test, y_pred)\n",
        "\n",
        "    # Exibe a acurácia do modelo\n",
        "    print(f\"Precisão do modelo {nome}: {acc:.2f}\")"
      ],
      "metadata": {
        "colab": {
          "base_uri": "https://localhost:8080/"
        },
        "id": "BE000qKqxkQB",
        "outputId": "83809681-98d3-4a9a-8510-2168bfeded05"
      },
      "execution_count": 206,
      "outputs": [
        {
          "output_type": "stream",
          "name": "stdout",
          "text": [
            "Precisão do modelo Multinomial: 0.30\n"
          ]
        }
      ]
    },
    {
      "cell_type": "code",
      "source": [
        " # Exibindo métricas de avaliação\n",
        "print(f\"\\nModelo {nome} - Precisão: {acc:.2f}\")\n",
        "print(f\"Relatório de Classificação:\\n{classification_report(y_test, y_pred)}\")\n",
        ""
      ],
      "metadata": {
        "colab": {
          "base_uri": "https://localhost:8080/"
        },
        "id": "Jpw0ZdoNxkUb",
        "outputId": "f6624b77-2e19-499f-b536-1771b695d6fb"
      },
      "execution_count": 207,
      "outputs": [
        {
          "output_type": "stream",
          "name": "stdout",
          "text": [
            "\n",
            "Modelo Multinomial - Precisão: 0.30\n",
            "Relatório de Classificação:\n",
            "              precision    recall  f1-score   support\n",
            "\n",
            "           0       0.33      0.20      0.25         5\n",
            "           1       0.00      0.00      0.00         1\n",
            "           2       0.29      0.67      0.40         3\n",
            "           3       0.00      0.00      0.00         4\n",
            "           4       0.43      0.43      0.43         7\n",
            "\n",
            "    accuracy                           0.30        20\n",
            "   macro avg       0.21      0.26      0.22        20\n",
            "weighted avg       0.28      0.30      0.27        20\n",
            "\n"
          ]
        }
      ]
    },
    {
      "cell_type": "code",
      "source": [
        "        # Matriz de Confusão\n",
        "        cm = confusion_matrix(y_test, y_pred)\n",
        "        sns.heatmap(cm, annot=True, fmt='d', cmap='Blues', xticklabels=['A1', 'A2', 'B1', 'B2', 'C1'], yticklabels=['A1', 'A2', 'B1', 'B2', 'C1'])\n",
        "        plt.title(f'Matriz de Confusão para {nome}')\n",
        "        plt.ylabel('Verdadeiro')\n",
        "        plt.xlabel('Predito')\n",
        "        plt.show()"
      ],
      "metadata": {
        "colab": {
          "base_uri": "https://localhost:8080/",
          "height": 472
        },
        "id": "z_dx5z7pxkZX",
        "outputId": "66337004-d924-47c4-e06a-bb6ed70e160a"
      },
      "execution_count": 208,
      "outputs": [
        {
          "output_type": "display_data",
          "data": {
            "text/plain": [
              "<Figure size 640x480 with 2 Axes>"
            ],
            "image/png": "[encoded data removed]"
          },
          "metadata": {}
        }
      ]
    },
    {
      "cell_type": "code",
      "source": [
        "# Função de validação cruzada\n",
        "from sklearn.model_selection import KFold, cross_val_score\n",
        "\n",
        "def realizar_validacao_cruzada(modelo, X, y):\n",
        "    kf = KFold(n_splits=5, shuffle=True, random_state=42)  # K-Fold Cross Validation\n",
        "    scores = cross_val_score(modelo, X, y, cv=kf, scoring='accuracy')\n",
        "\n",
        "    # Corrigido: Acessando o nome da classe do modelo\n",
        "    print(f\"\\nValidação Cruzada para {modelo.__class__.__name__}:\")\n",
        "    print(f\"Precisões: {scores}\")\n",
        "    print(f\"Média da precisão: {scores.mean():.2f}\")\n",
        "\n",
        "# Exemplo de como chamar a função\n",
        "# Supondo que 'modelo', 'X_train' e 'y_train' já estejam definidos\n",
        "realizar_validacao_cruzada(modelo, X_train, y_train)\n"
      ],
      "metadata": {
        "colab": {
          "base_uri": "https://localhost:8080/"
        },
        "id": "G7j29nngxkdu",
        "outputId": "108b41e1-2aa0-41a0-b5bd-7a6d4f6c4ff8"
      },
      "execution_count": 209,
      "outputs": [
        {
          "output_type": "stream",
          "name": "stdout",
          "text": [
            "\n",
            "Validação Cruzada para GaussianNB:\n",
            "Precisões: [0.1875 0.125  0.1875 0.125  0.25  ]\n",
            "Média da precisão: 0.17\n"
          ]
        }
      ]
    },
    {
      "cell_type": "code",
      "source": [
        "\n",
        "# Função para realizar validação cruzada\n",
        "def realizar_validacao_cruzada(modelo, X, y):\n",
        "    \"\"\"\n",
        "    Função para realizar validação cruzada e obter a média da precisão.\n",
        "    \"\"\"\n",
        "    kf = KFold(n_splits=5, shuffle=True, random_state=42)  # K-Fold Cross Validation\n",
        "    scores = cross_val_score(modelo, X, y, cv=kf, scoring='accuracy')\n",
        "    print(f\"\\nValidação Cruzada para {modelo._class.name_}:\")\n",
        "    print(f\"Precisões: {scores}\")\n",
        "    print(f\"Média da precisão: {scores.mean():.2f}\")\n",
        ""
      ],
      "metadata": {
        "id": "kJQdAUeDxkiW"
      },
      "execution_count": 210,
      "outputs": []
    },
    {
      "cell_type": "code",
      "source": [
        "# Função para ajustar hiperparâmetros usando GridSearch\n",
        "def ajuste_hiperparametros(modelo, X_train, y_train):\n",
        "    \"\"\"\n",
        "    Função para otimizar hiperparâmetros do modelo utilizando GridSearch.\n",
        "    \"\"\""
      ],
      "metadata": {
        "id": "xUPGwzoJxkm5"
      },
      "execution_count": 211,
      "outputs": []
    },
    {
      "cell_type": "code",
      "source": [
        "# Definindo os parâmetros a serem ajustados\n",
        "parametros = {\n",
        "    'Gaussiano': {},\n",
        "    'Multinomial': {\n",
        "        'alpha': [0.1, 0.5, 1.0, 2.0]\n",
        "    },\n",
        "    'Bernoulli': {\n",
        "        'alpha': [0.1, 0.5, 1.0, 2.0],\n",
        "        'binarize': [0.0, 0.5, 1.0]\n",
        "    }\n",
        "}\n",
        "\n"
      ],
      "metadata": {
        "collapsed": true,
        "id": "VAcyAbmaxktG"
      },
      "execution_count": 212,
      "outputs": []
    },
    {
      "cell_type": "code",
      "source": [
        "from sklearn.naive_bayes import GaussianNB, MultinomialNB, BernoulliNB\n",
        "from sklearn.model_selection import GridSearchCV\n",
        "from sklearn.datasets import load_iris\n",
        "from sklearn.model_selection import train_test_split\n",
        "from sklearn.naive_bayes import GaussianNB, MultinomialNB, BernoulliNB\n",
        "from sklearn.model_selection import GridSearchCV\n"
      ],
      "metadata": {
        "id": "in7AbyDF2SV0"
      },
      "execution_count": 213,
      "outputs": []
    },
    {
      "cell_type": "code",
      "source": [
        "# Carregar um exemplo de dados (como o conjunto Iris)\n",
        "data = load_iris()\n",
        "X = data.data  # Características (features)\n",
        "y = data.target  # Rótulos (labels)\n",
        "\n",
        "# Dividir os dados em conjunto de treino e teste\n",
        "X_train, X_test, y_train, y_test = train_test_split(X, y, test_size=0.3, random_state=42)\n",
        "\n",
        "# Definindo os parâmetros a serem ajustados\n",
        "parametros = {\n",
        "    'Gaussiano': {},\n",
        "    'Multinomial': {\n",
        "        'alpha': [0.1, 0.5, 1.0, 2.0]\n",
        "    },\n",
        "    'Bernoulli': {\n",
        "        'alpha': [0.1, 0.5, 1.0, 2.0],\n",
        "        'binarize': [0.0, 0.5, 1.0]\n",
        "    }\n",
        "}\n",
        "\n",
        "# Modelos\n",
        "modelo = {\n",
        "    'Gaussiano': GaussianNB(),\n",
        "    'Multinomial': MultinomialNB(),\n",
        "    'Bernoulli': BernoulliNB()\n",
        "}\n",
        "\n",
        "# Ajuste de hiperparâmetros usando GridSearchCV\n",
        "for nome, modelo_atual in modelo.items():\n",
        "    print(f\"\\nAjustando hiperparâmetros para {nome}...\")\n",
        "    grid_search = GridSearchCV(modelo_atual, parametros[nome], cv=5, scoring='accuracy')\n",
        "    grid_search.fit(X_train, y_train)\n",
        "\n",
        "    print(f\"Melhores parâmetros para {nome}: {grid_search.best_params_}\")\n",
        "    print(f\"Melhor precisão obtida: {grid_search.best_score_:.2f}\")\n"
      ],
      "metadata": {
        "colab": {
          "base_uri": "https://localhost:8080/"
        },
        "id": "SGFGjQJR3r21",
        "outputId": "ec89cb9e-c8ad-48f2-bb2c-77960ac10c7d"
      },
      "execution_count": 214,
      "outputs": [
        {
          "output_type": "stream",
          "name": "stdout",
          "text": [
            "\n",
            "Ajustando hiperparâmetros para Gaussiano...\n",
            "Melhores parâmetros para Gaussiano: {}\n",
            "Melhor precisão obtida: 0.93\n",
            "\n",
            "Ajustando hiperparâmetros para Multinomial...\n",
            "Melhores parâmetros para Multinomial: {'alpha': 0.1}\n",
            "Melhor precisão obtida: 0.92\n",
            "\n",
            "Ajustando hiperparâmetros para Bernoulli...\n",
            "Melhores parâmetros para Bernoulli: {'alpha': 0.1, 'binarize': 1.0}\n",
            "Melhor precisão obtida: 0.65\n"
          ]
        }
      ]
    },
    {
      "cell_type": "code",
      "source": [
        "# Supondo que X_train e y_train já estejam definidos\n",
        "for nome, modelo_atual in modelo.items():\n",
        "    print(f\"\\nAjustando hiperparâmetros para {nome}...\")\n",
        "    grid_search = GridSearchCV(modelo_atual, parametros[nome], cv=5, scoring='accuracy')\n",
        "    grid_search.fit(X_train, y_train)\n",
        "\n",
        "    print(f\"Melhores parâmetros para {nome}: {grid_search.best_params_}\")\n",
        "    print(f\"Melhor precisão obtida: {grid_search.best_score_:.2f}\")\n"
      ],
      "metadata": {
        "collapsed": true,
        "colab": {
          "base_uri": "https://localhost:8080/"
        },
        "id": "aQfPuxLz2xBp",
        "outputId": "d4f122e1-8ac1-4a56-ad37-a0437d54d30d"
      },
      "execution_count": 215,
      "outputs": [
        {
          "output_type": "stream",
          "name": "stdout",
          "text": [
            "\n",
            "Ajustando hiperparâmetros para Gaussiano...\n",
            "Melhores parâmetros para Gaussiano: {}\n",
            "Melhor precisão obtida: 0.93\n",
            "\n",
            "Ajustando hiperparâmetros para Multinomial...\n",
            "Melhores parâmetros para Multinomial: {'alpha': 0.1}\n",
            "Melhor precisão obtida: 0.92\n",
            "\n",
            "Ajustando hiperparâmetros para Bernoulli...\n",
            "Melhores parâmetros para Bernoulli: {'alpha': 0.1, 'binarize': 1.0}\n",
            "Melhor precisão obtida: 0.65\n"
          ]
        }
      ]
    },
    {
      "cell_type": "code",
      "source": [
        "# Ajuste de hiperparâmetros usando GridSearchCV\n",
        "for nome, modelo_atual in modelo.items():\n",
        "    print(f\"\\nAjustando hiperparâmetros para {nome}...\")\n",
        "    grid_search = GridSearchCV(modelo_atual, parametros[nome], cv=5, scoring='accuracy')\n",
        "    grid_search.fit(X_train, y_train)\n",
        "\n",
        "    print(f\"Melhores parâmetros para {nome}: {grid_search.best_params_}\")\n",
        "    print(f\"Melhor precisão obtida: {grid_search.best_score_:.2f}\")\n",
        "\n",
        "    # Melhor modelo\n",
        "    melhor_modelo = grid_search.best_estimator_\n",
        "    y_pred = melhor_modelo.predict(X_test)\n",
        "    print(f\"Precisão do melhor modelo {nome}: {accuracy_score(y_test, y_pred):.2f}\")\n"
      ],
      "metadata": {
        "colab": {
          "base_uri": "https://localhost:8080/"
        },
        "id": "T7UgNTxt1x96",
        "outputId": "8b997821-ccfd-4a1e-eeca-f69c1b800cc6"
      },
      "execution_count": 216,
      "outputs": [
        {
          "output_type": "stream",
          "name": "stdout",
          "text": [
            "\n",
            "Ajustando hiperparâmetros para Gaussiano...\n",
            "Melhores parâmetros para Gaussiano: {}\n",
            "Melhor precisão obtida: 0.93\n",
            "Precisão do melhor modelo Gaussiano: 0.98\n",
            "\n",
            "Ajustando hiperparâmetros para Multinomial...\n",
            "Melhores parâmetros para Multinomial: {'alpha': 0.1}\n",
            "Melhor precisão obtida: 0.92\n",
            "Precisão do melhor modelo Multinomial: 0.96\n",
            "\n",
            "Ajustando hiperparâmetros para Bernoulli...\n",
            "Melhores parâmetros para Bernoulli: {'alpha': 0.1, 'binarize': 1.0}\n",
            "Melhor precisão obtida: 0.65\n",
            "Precisão do melhor modelo Bernoulli: 0.71\n"
          ]
        }
      ]
    },
    {
      "cell_type": "code",
      "source": [
        "# Função principal\n",
        "def main():\n",
        "    \"\"\"\n",
        "    Função principal para executar a análise, treinamento e avaliação.\n",
        "    \"\"\""
      ],
      "metadata": {
        "id": "iZS6WMUHxkxv"
      },
      "execution_count": 217,
      "outputs": []
    },
    {
      "cell_type": "code",
      "source": [
        "\n",
        "    # Carregar os dados\n",
        "    dados = carregar_dados()\n"
      ],
      "metadata": {
        "id": "ZHTx6BCIxk3K"
      },
      "execution_count": 218,
      "outputs": []
    },
    {
      "cell_type": "code",
      "source": [
        "import pandas as pd\n",
        "import numpy as np\n",
        "\n",
        "# Função para análise exploratória\n",
        "def analise_exploratoria(dados):\n",
        "    \"\"\"\n",
        "    Função para realizar uma análise exploratória básica dos dados.\n",
        "    \"\"\"\n",
        "    print(\"Primeiras linhas dos dados:\")\n",
        "    print(dados.head())\n",
        "\n",
        "    print(\"\\nInformações gerais sobre os dados:\")\n",
        "    print(dados.info())\n",
        "\n",
        "    print(\"\\nEstatísticas descritivas:\")\n",
        "    print(dados.describe())\n",
        "\n",
        "    print(\"\\nVerificando valores ausentes:\")\n",
        "    print(dados.isnull().sum())\n",
        "\n",
        "# Gerando dados simulados (exemplo)\n",
        "tempo_estudo = np.random.normal(loc=3, scale=1, size=100)\n",
        "pontuacao = np.random.normal(loc=60, scale=15, size=100)\n",
        "frequencia_palavras = np.random.randint(1, 20, size=100)\n",
        "niveis = np.random.choice([0, 1, 2, 3, 4], size=100)\n",
        "\n",
        "# Criando um DataFrame com os dados simulados\n",
        "dados = pd.DataFrame({\n",
        "    'tempo_estudo': tempo_estudo,\n",
        "    'pontuacao': pontuacao,\n",
        "    'frequencia_palavras': frequencia_palavras,\n",
        "    'nivel': niveis\n",
        "})\n",
        "\n",
        "# Análise Exploratória de Dados (EDA)\n",
        "analise_exploratoria(dados)\n",
        "\n"
      ],
      "metadata": {
        "colab": {
          "base_uri": "https://localhost:8080/"
        },
        "id": "ymZ3sj7mxk8d",
        "outputId": "aa10784a-ad19-4513-d63a-1a4507219f25"
      },
      "execution_count": 219,
      "outputs": [
        {
          "output_type": "stream",
          "name": "stdout",
          "text": [
            "Primeiras linhas dos dados:\n",
            "   tempo_estudo  pontuacao  frequencia_palavras  nivel\n",
            "0      3.490585  61.403440                    3      2\n",
            "1      4.068944  38.584628                    8      2\n",
            "2      5.753272  59.716062                    3      4\n",
            "3      3.133989  70.590462                   14      1\n",
            "4      5.948668  53.041268                   18      2\n",
            "\n",
            "Informações gerais sobre os dados:\n",
            "<class 'pandas.core.frame.DataFrame'>\n",
            "RangeIndex: 100 entries, 0 to 99\n",
            "Data columns (total 4 columns):\n",
            " #   Column               Non-Null Count  Dtype  \n",
            "---  ------               --------------  -----  \n",
            " 0   tempo_estudo         100 non-null    float64\n",
            " 1   pontuacao            100 non-null    float64\n",
            " 2   frequencia_palavras  100 non-null    int64  \n",
            " 3   nivel                100 non-null    int64  \n",
            "dtypes: float64(2), int64(2)\n",
            "memory usage: 3.2 KB\n",
            "None\n",
            "\n",
            "Estatísticas descritivas:\n",
            "       tempo_estudo   pontuacao  frequencia_palavras       nivel\n",
            "count    100.000000  100.000000           100.000000  100.000000\n",
            "mean       3.152399   62.889172            10.290000    2.000000\n",
            "std        1.036104   14.026141             5.876326    1.407053\n",
            "min        0.818792   22.773851             1.000000    0.000000\n",
            "25%        2.366920   54.708179             5.750000    1.000000\n",
            "50%        3.306039   63.836384            11.000000    2.000000\n",
            "75%        3.805357   72.821038            16.000000    3.000000\n",
            "max        5.948668   92.366077            19.000000    4.000000\n",
            "\n",
            "Verificando valores ausentes:\n",
            "tempo_estudo           0\n",
            "pontuacao              0\n",
            "frequencia_palavras    0\n",
            "nivel                  0\n",
            "dtype: int64\n"
          ]
        }
      ]
    },
    {
      "cell_type": "code",
      "source": [
        "from sklearn.model_selection import train_test_split\n",
        "\n",
        "def pre_processar_dados(dados):\n",
        "    \"\"\"\n",
        "    Função para pré-processar os dados.\n",
        "    - Separa as variáveis explicativas (X) e a variável alvo (y).\n",
        "    - Normaliza as variáveis explicativas.\n",
        "    \"\"\"\n",
        "    # Separa as variáveis explicativas (X) e a variável alvo (y)\n",
        "    X = dados.drop('nivel', axis=1)  # Exclui a coluna 'nivel' para X\n",
        "    y = dados['nivel']  # A variável alvo é a coluna 'nivel'\n",
        "\n",
        "    # Normaliza os dados (opcional, pode ser feito conforme necessário)\n",
        "    from sklearn.preprocessing import StandardScaler\n",
        "    scaler = StandardScaler()\n",
        "    X_normalizado = scaler.fit_transform(X)\n",
        "\n",
        "    return X_normalizado, y\n",
        "\n",
        "# Chamando a função para pré-processamento\n",
        "X, y = pre_processar_dados(dados)\n"
      ],
      "metadata": {
        "id": "us1yV1ngxlCA"
      },
      "execution_count": 220,
      "outputs": []
    },
    {
      "cell_type": "code",
      "source": [
        "\n",
        "    # Dividir os dados em treino e teste\n",
        "    X_train, X_test, y_train, y_test = train_test_split(X, y, test_size=0.2, random_state=42)"
      ],
      "metadata": {
        "id": "nW194AKsxlHf"
      },
      "execution_count": 221,
      "outputs": []
    },
    {
      "cell_type": "code",
      "source": [
        "from sklearn.metrics import accuracy_score\n",
        "from sklearn.model_selection import train_test_split\n",
        "\n",
        "def treinar_e_avaliar_modelos(X_train, X_test, y_train, y_test):\n",
        "    \"\"\"\n",
        "    Função para treinar e avaliar os modelos.\n",
        "    \"\"\"\n",
        "    # Aqui, você pode colocar seu código para treinar diferentes modelos\n",
        "    # Por exemplo, vamos treinar um modelo de regressão logística\n",
        "    from sklearn.linear_model import LogisticRegression\n",
        "\n",
        "    # Instanciando o modelo\n",
        "    modelo = LogisticRegression(max_iter=1000)\n",
        "\n",
        "    # Treinando o modelo\n",
        "    modelo.fit(X_train, y_train)\n",
        "\n",
        "    # Fazendo previsões\n",
        "    y_pred = modelo.predict(X_test)\n",
        "\n",
        "    # Calculando a acurácia\n",
        "    acc = accuracy_score(y_test, y_pred)\n",
        "\n",
        "    print(f\"Acurácia do modelo: {acc:.2f}\")\n"
      ],
      "metadata": {
        "id": "AbPCwm41xlNm"
      },
      "execution_count": 222,
      "outputs": []
    },
    {
      "cell_type": "code",
      "source": [
        "    print(f\"Acurácia do modelo: {acc:.2f}\")"
      ],
      "metadata": {
        "colab": {
          "base_uri": "https://localhost:8080/"
        },
        "id": "_PWDCusR6z4Q",
        "outputId": "da075922-fdbc-478c-95ff-1d7264ed5b68"
      },
      "execution_count": 223,
      "outputs": [
        {
          "output_type": "stream",
          "name": "stdout",
          "text": [
            "Acurácia do modelo: 0.30\n"
          ]
        }
      ]
    }
  ],
  "metadata": {
    "colab": {
      "name": "Olá, este é o Colaboratory",
      "toc_visible": true,
      "provenance": []
    },
    "kernelspec": {
      "display_name": "Python 3",
      "name": "python3"
    }
  },
  "nbformat": 4,
  "nbformat_minor": 0
}